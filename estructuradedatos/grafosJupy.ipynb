{
 "cells": [
  {
   "cell_type": "markdown",
   "metadata": {},
   "source": [
    "## Tablas\n",
    "\n",
    "| Nombre | Edad | Link |\n",
    "|--------|------|------|\n",
    "| David  | 22   | ![Youtube video](https://i0.wp.com/altc.alt.ac.uk/blog/wp-content/uploads/sites/1112/2019/05/250px-Jupyter_logo.png?fit=250%2C290&ssl=1) |\n",
    "| Majo | 19  | [Youtube video](https://www.youtube.com/watch?v=uCblro58Er4) |"
   ]
  },
  {
   "cell_type": "markdown",
   "metadata": {},
   "source": [
    "![Youtube video](https://miro.medium.com/v2/resize:fit:1200/1*HL-vMLhAMnqtAWw6LyhZbQ.png)\n"
   ]
  },
  {
   "cell_type": "markdown",
   "metadata": {},
   "source": [
    "1. Hola\n",
    "2. Arroz \n",
    "    - Pasta"
   ]
  },
  {
   "cell_type": "markdown",
   "metadata": {},
   "source": [
    "# _Estructura de datos_\n",
    "## **Estructura de datos**\n",
    "### Estructura de datos\n",
    "#### Estructura de datos\n"
   ]
  },
  {
   "cell_type": "markdown",
   "metadata": {},
   "source": [
    "<h3> 1. importar las librerias para la <b >creacion de grafos </h3>"
   ]
  }
 ],
 "metadata": {
  "kernelspec": {
   "display_name": "Python 3",
   "language": "python",
   "name": "python3"
  },
  "language_info": {
   "name": "python",
   "version": "3.13.3"
  }
 },
 "nbformat": 4,
 "nbformat_minor": 2
}
