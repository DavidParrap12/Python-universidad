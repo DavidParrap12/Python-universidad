{
 "cells": [
  {
   "cell_type": "markdown",
   "metadata": {},
   "source": [
    "# Tablas Hash\n"
   ]
  },
  {
   "cell_type": "markdown",
   "metadata": {},
   "source": [
    "## Componentes\n",
    "Array base : espacio de almacenamiento\n",
    "funcion hash: transforma claves en índices del array \n",
    "Manejo de colisiones: estategias para lidiar con "
   ]
  },
  {
   "cell_type": "markdown",
   "metadata": {},
   "source": [
    "# Paso 1: crear una clase TablaHash simple\n"
   ]
  },
  {
   "cell_type": "code",
   "execution_count": 4,
   "metadata": {},
   "outputs": [],
   "source": [
    "class TablaHash:\n",
    "    def __init__(self, tamaño):\n",
    "        self.tamaño = tamaño\n",
    "        self.tabla = [None] * tamaño\n",
    "\n",
    "    def funcion_hash(self, clave):\n",
    "        #Usamos la funcion hash simplr: suma de codigos ASCII % tamaño\n",
    "        return sum(ord(c) for c in clave) % self.tamaño\n",
    "    \n",
    "    def insertar(self, clave, valor):\n",
    "        indice = self.funcion_hash(clave)\n",
    "        #Usamos encadenamiento simple con listas\n",
    "        if self.tabla[indice] is None:\n",
    "            self.tabla[indice] = []\n",
    "        else:\n",
    "            self.tabla[indice].append((clave, valor))\n",
    "    \n",
    "    def buscar(self, clave):\n",
    "        indice = self.funcion_hash(clave)\n",
    "        if self.tabla[indice] is not None:\n",
    "            for k, v in self.tabla[indice]:\n",
    "                if k == clave:\n",
    "                    return v\n",
    "                \n",
    "    def eliminar(self, clave):\n",
    "        indice = self.funcion_hash(clave)\n",
    "        if self.tabla[indice] is not None:\n",
    "            self.tabla[indice] = [(k,v) for k, v in self.tabla[indice] if k != clave]"
   ]
  },
  {
   "cell_type": "markdown",
   "metadata": {},
   "source": [
    "# Paso 2: Usar la clase creada"
   ]
  },
  {
   "cell_type": "code",
   "execution_count": null,
   "metadata": {},
   "outputs": [],
   "source": [
    "agenda = TablaHash(20)\n",
    "\n",
    "#insertar valores\n",
    "agenda.insertar(\"Maria\", \"399-543_8776\")\n",
    "agenda.insertar(\"Juan\", \"379-542-7876\")\n",
    "agenda.insertar(\"Manuel\", \"339-524-7645\")\n",
    "agenda.insertar(\"Juliana\", \"319-643-2456\")\n",
    "agenda.insertar(\"Maria\", \"368-547-9876\")\n",
    "\n",
    "#buscar un contact\n",
    "print(\"Telefono de juliana\", agenda.buscar(\"Juliana\"))\n",
    "\n",
    "agenda.eliminar(\"Manuel\")\n",
    "print(\"Telefono de Manuel despues de eliminar\", agenda.buscar(\"Manuel\"))"
   ]
  },
  {
   "cell_type": "markdown",
   "metadata": {},
   "source": [
    "# Paso 3 "
   ]
  }
 ],
 "metadata": {
  "kernelspec": {
   "display_name": "Python 3",
   "language": "python",
   "name": "python3"
  },
  "language_info": {
   "codemirror_mode": {
    "name": "ipython",
    "version": 3
   },
   "file_extension": ".py",
   "mimetype": "text/x-python",
   "name": "python",
   "nbconvert_exporter": "python",
   "pygments_lexer": "ipython3",
   "version": "3.13.3"
  }
 },
 "nbformat": 4,
 "nbformat_minor": 2
}
